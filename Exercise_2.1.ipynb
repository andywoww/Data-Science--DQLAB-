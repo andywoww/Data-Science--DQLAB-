{
 "cells": [
  {
   "cell_type": "markdown",
   "id": "b614fd0a",
   "metadata": {},
   "source": [
    "# Exercise 2.1"
   ]
  },
  {
   "cell_type": "code",
   "execution_count": 10,
   "id": "2d7588dd",
   "metadata": {
    "scrolled": true
   },
   "outputs": [
    {
     "data": {
      "text/html": [
       "<div>\n",
       "<style scoped>\n",
       "    .dataframe tbody tr th:only-of-type {\n",
       "        vertical-align: middle;\n",
       "    }\n",
       "\n",
       "    .dataframe tbody tr th {\n",
       "        vertical-align: top;\n",
       "    }\n",
       "\n",
       "    .dataframe thead th {\n",
       "        text-align: right;\n",
       "    }\n",
       "</style>\n",
       "<table border=\"1\" class=\"dataframe\">\n",
       "  <thead>\n",
       "    <tr style=\"text-align: right;\">\n",
       "      <th></th>\n",
       "      <th>a_1</th>\n",
       "      <th>a_2</th>\n",
       "      <th>a_3</th>\n",
       "      <th>id</th>\n",
       "    </tr>\n",
       "  </thead>\n",
       "  <tbody>\n",
       "    <tr>\n",
       "      <th>0</th>\n",
       "      <td>5.176457</td>\n",
       "      <td>10.1034259615354</td>\n",
       "      <td>23.596614</td>\n",
       "      <td>0</td>\n",
       "    </tr>\n",
       "    <tr>\n",
       "      <th>1</th>\n",
       "      <td>36.622414</td>\n",
       "      <td>-10.571109763845</td>\n",
       "      <td>12.457893</td>\n",
       "      <td>0</td>\n",
       "    </tr>\n",
       "    <tr>\n",
       "      <th>2</th>\n",
       "      <td>-6.792371</td>\n",
       "      <td>-6.79771975597544</td>\n",
       "      <td>-0.622541</td>\n",
       "      <td>0</td>\n",
       "    </tr>\n",
       "    <tr>\n",
       "      <th>3</th>\n",
       "      <td>17.943963</td>\n",
       "      <td>-4.6638432049658</td>\n",
       "      <td>-24.650001</td>\n",
       "      <td>0</td>\n",
       "    </tr>\n",
       "    <tr>\n",
       "      <th>4</th>\n",
       "      <td>9.760326</td>\n",
       "      <td>29.8440839812575</td>\n",
       "      <td>-3.551850</td>\n",
       "      <td>0</td>\n",
       "    </tr>\n",
       "  </tbody>\n",
       "</table>\n",
       "</div>"
      ],
      "text/plain": [
       "         a_1                a_2        a_3  id\n",
       "0   5.176457   10.1034259615354  23.596614   0\n",
       "1  36.622414   -10.571109763845  12.457893   0\n",
       "2  -6.792371  -6.79771975597544  -0.622541   0\n",
       "3  17.943963   -4.6638432049658 -24.650001   0\n",
       "4   9.760326   29.8440839812575  -3.551850   0"
      ]
     },
     "execution_count": 10,
     "metadata": {},
     "output_type": "execute_result"
    }
   ],
   "source": [
    "import pandas as pd\n",
    "import numpy as np\n",
    "\n",
    "#Data Frame\n",
    "df=pd.read_csv('Zb_6.txt')\n",
    "df.head()"
   ]
  },
  {
   "cell_type": "code",
   "execution_count": 11,
   "id": "75c83c7f",
   "metadata": {},
   "outputs": [
    {
     "name": "stdout",
     "output_type": "stream",
     "text": [
      "<class 'pandas.core.frame.DataFrame'>\n",
      "RangeIndex: 2000 entries, 0 to 1999\n",
      "Data columns (total 4 columns):\n",
      " #   Column  Non-Null Count  Dtype  \n",
      "---  ------  --------------  -----  \n",
      " 0   a_1     1997 non-null   float64\n",
      " 1   a_2     1997 non-null   object \n",
      " 2   a_3     1998 non-null   float64\n",
      " 3   id      2000 non-null   int64  \n",
      "dtypes: float64(2), int64(1), object(1)\n",
      "memory usage: 62.6+ KB\n"
     ]
    }
   ],
   "source": [
    "#Check Data\n",
    "df.info()"
   ]
  },
  {
   "cell_type": "code",
   "execution_count": 12,
   "id": "dc1ccc74",
   "metadata": {},
   "outputs": [
    {
     "name": "stdout",
     "output_type": "stream",
     "text": [
      "<class 'pandas.core.frame.DataFrame'>\n",
      "RangeIndex: 2000 entries, 0 to 1999\n",
      "Data columns (total 4 columns):\n",
      " #   Column  Non-Null Count  Dtype  \n",
      "---  ------  --------------  -----  \n",
      " 0   a_1     1997 non-null   float64\n",
      " 1   a_2     1996 non-null   float64\n",
      " 2   a_3     1998 non-null   float64\n",
      " 3   id      2000 non-null   int64  \n",
      "dtypes: float64(3), int64(1)\n",
      "memory usage: 62.6 KB\n"
     ]
    }
   ],
   "source": [
    "# Convert data type column a_2 to numeric because the original data detect object.\n",
    "df['a_2'] = pd.to_numeric(df['a_2'], errors='coerce')\n",
    "#Check Data once more\n",
    "df.info()"
   ]
  },
  {
   "cell_type": "code",
   "execution_count": 13,
   "id": "80084a28",
   "metadata": {},
   "outputs": [
    {
     "data": {
      "text/plain": [
       "a_1     True\n",
       "a_2     True\n",
       "a_3     True\n",
       "id     False\n",
       "dtype: bool"
      ]
     },
     "execution_count": 13,
     "metadata": {},
     "output_type": "execute_result"
    }
   ],
   "source": [
    "#Check a missing value\n",
    "df.isnull().any(axis = 0)"
   ]
  },
  {
   "cell_type": "code",
   "execution_count": 14,
   "id": "ccdb27da",
   "metadata": {},
   "outputs": [
    {
     "data": {
      "text/plain": [
       "a_1    3\n",
       "a_2    4\n",
       "a_3    2\n",
       "id     0\n",
       "dtype: int64"
      ]
     },
     "execution_count": 14,
     "metadata": {},
     "output_type": "execute_result"
    }
   ],
   "source": [
    "#Check a sum of the missing value\n",
    "df.isnull().sum(axis = 0)"
   ]
  },
  {
   "cell_type": "code",
   "execution_count": 15,
   "id": "04dc31d7",
   "metadata": {},
   "outputs": [
    {
     "name": "stdout",
     "output_type": "stream",
     "text": [
      "Before removing missing values: 2000\n",
      "After removing missing values: 1991\n"
     ]
    }
   ],
   "source": [
    "#Removing missing values\n",
    "print('Before removing missing values:', len(df))\n",
    "df.dropna(axis=0, inplace=True)\n",
    "print('After removing missing values:', len(df))"
   ]
  },
  {
   "cell_type": "code",
   "execution_count": 16,
   "id": "8ec3f74b",
   "metadata": {},
   "outputs": [
    {
     "data": {
      "text/html": [
       "<div>\n",
       "<style scoped>\n",
       "    .dataframe tbody tr th:only-of-type {\n",
       "        vertical-align: middle;\n",
       "    }\n",
       "\n",
       "    .dataframe tbody tr th {\n",
       "        vertical-align: top;\n",
       "    }\n",
       "\n",
       "    .dataframe thead th {\n",
       "        text-align: right;\n",
       "    }\n",
       "</style>\n",
       "<table border=\"1\" class=\"dataframe\">\n",
       "  <thead>\n",
       "    <tr style=\"text-align: right;\">\n",
       "      <th></th>\n",
       "      <th>a_1</th>\n",
       "      <th>a_2</th>\n",
       "      <th>a_3</th>\n",
       "      <th>id</th>\n",
       "    </tr>\n",
       "  </thead>\n",
       "  <tbody>\n",
       "    <tr>\n",
       "      <th>0</th>\n",
       "      <td>5.176457</td>\n",
       "      <td>10.103426</td>\n",
       "      <td>23.596614</td>\n",
       "      <td>0</td>\n",
       "    </tr>\n",
       "    <tr>\n",
       "      <th>1</th>\n",
       "      <td>36.622414</td>\n",
       "      <td>-10.571110</td>\n",
       "      <td>12.457893</td>\n",
       "      <td>0</td>\n",
       "    </tr>\n",
       "    <tr>\n",
       "      <th>2</th>\n",
       "      <td>-6.792371</td>\n",
       "      <td>-6.797720</td>\n",
       "      <td>-0.622541</td>\n",
       "      <td>0</td>\n",
       "    </tr>\n",
       "    <tr>\n",
       "      <th>3</th>\n",
       "      <td>17.943963</td>\n",
       "      <td>-4.663843</td>\n",
       "      <td>-24.650001</td>\n",
       "      <td>0</td>\n",
       "    </tr>\n",
       "    <tr>\n",
       "      <th>4</th>\n",
       "      <td>9.760326</td>\n",
       "      <td>29.844084</td>\n",
       "      <td>-3.551850</td>\n",
       "      <td>0</td>\n",
       "    </tr>\n",
       "  </tbody>\n",
       "</table>\n",
       "</div>"
      ],
      "text/plain": [
       "         a_1        a_2        a_3  id\n",
       "0   5.176457  10.103426  23.596614   0\n",
       "1  36.622414 -10.571110  12.457893   0\n",
       "2  -6.792371  -6.797720  -0.622541   0\n",
       "3  17.943963  -4.663843 -24.650001   0\n",
       "4   9.760326  29.844084  -3.551850   0"
      ]
     },
     "execution_count": 16,
     "metadata": {},
     "output_type": "execute_result"
    }
   ],
   "source": [
    "df.head()"
   ]
  },
  {
   "cell_type": "code",
   "execution_count": 17,
   "id": "996b791d",
   "metadata": {},
   "outputs": [
    {
     "data": {
      "text/html": [
       "<div>\n",
       "<style scoped>\n",
       "    .dataframe tbody tr th:only-of-type {\n",
       "        vertical-align: middle;\n",
       "    }\n",
       "\n",
       "    .dataframe tbody tr th {\n",
       "        vertical-align: top;\n",
       "    }\n",
       "\n",
       "    .dataframe thead th {\n",
       "        text-align: right;\n",
       "    }\n",
       "</style>\n",
       "<table border=\"1\" class=\"dataframe\">\n",
       "  <thead>\n",
       "    <tr style=\"text-align: right;\">\n",
       "      <th></th>\n",
       "      <th>a_1</th>\n",
       "      <th>a_2</th>\n",
       "      <th>a_3</th>\n",
       "      <th>id</th>\n",
       "    </tr>\n",
       "  </thead>\n",
       "  <tbody>\n",
       "    <tr>\n",
       "      <th>0</th>\n",
       "      <td>5.176457</td>\n",
       "      <td>10.103426</td>\n",
       "      <td>23.596614</td>\n",
       "      <td>0</td>\n",
       "    </tr>\n",
       "    <tr>\n",
       "      <th>1</th>\n",
       "      <td>36.622414</td>\n",
       "      <td>-10.571110</td>\n",
       "      <td>12.457893</td>\n",
       "      <td>0</td>\n",
       "    </tr>\n",
       "    <tr>\n",
       "      <th>2</th>\n",
       "      <td>-6.792371</td>\n",
       "      <td>-6.797720</td>\n",
       "      <td>-0.622541</td>\n",
       "      <td>0</td>\n",
       "    </tr>\n",
       "    <tr>\n",
       "      <th>3</th>\n",
       "      <td>17.943963</td>\n",
       "      <td>-4.663843</td>\n",
       "      <td>-24.650001</td>\n",
       "      <td>0</td>\n",
       "    </tr>\n",
       "    <tr>\n",
       "      <th>4</th>\n",
       "      <td>9.760326</td>\n",
       "      <td>29.844084</td>\n",
       "      <td>-3.551850</td>\n",
       "      <td>0</td>\n",
       "    </tr>\n",
       "    <tr>\n",
       "      <th>...</th>\n",
       "      <td>...</td>\n",
       "      <td>...</td>\n",
       "      <td>...</td>\n",
       "      <td>...</td>\n",
       "    </tr>\n",
       "    <tr>\n",
       "      <th>1986</th>\n",
       "      <td>-10.745930</td>\n",
       "      <td>2.442456</td>\n",
       "      <td>18.557715</td>\n",
       "      <td>0</td>\n",
       "    </tr>\n",
       "    <tr>\n",
       "      <th>1987</th>\n",
       "      <td>-44.371389</td>\n",
       "      <td>-15.758540</td>\n",
       "      <td>-4.280358</td>\n",
       "      <td>0</td>\n",
       "    </tr>\n",
       "    <tr>\n",
       "      <th>1988</th>\n",
       "      <td>-13.005429</td>\n",
       "      <td>-9.075630</td>\n",
       "      <td>27.234526</td>\n",
       "      <td>0</td>\n",
       "    </tr>\n",
       "    <tr>\n",
       "      <th>1989</th>\n",
       "      <td>-38.508707</td>\n",
       "      <td>0.324857</td>\n",
       "      <td>-26.717929</td>\n",
       "      <td>0</td>\n",
       "    </tr>\n",
       "    <tr>\n",
       "      <th>1990</th>\n",
       "      <td>-11.754451</td>\n",
       "      <td>10.589119</td>\n",
       "      <td>11.194008</td>\n",
       "      <td>0</td>\n",
       "    </tr>\n",
       "  </tbody>\n",
       "</table>\n",
       "<p>1991 rows × 4 columns</p>\n",
       "</div>"
      ],
      "text/plain": [
       "            a_1        a_2        a_3  id\n",
       "0      5.176457  10.103426  23.596614   0\n",
       "1     36.622414 -10.571110  12.457893   0\n",
       "2     -6.792371  -6.797720  -0.622541   0\n",
       "3     17.943963  -4.663843 -24.650001   0\n",
       "4      9.760326  29.844084  -3.551850   0\n",
       "...         ...        ...        ...  ..\n",
       "1986 -10.745930   2.442456  18.557715   0\n",
       "1987 -44.371389 -15.758540  -4.280358   0\n",
       "1988 -13.005429  -9.075630  27.234526   0\n",
       "1989 -38.508707   0.324857 -26.717929   0\n",
       "1990 -11.754451  10.589119  11.194008   0\n",
       "\n",
       "[1991 rows x 4 columns]"
      ]
     },
     "execution_count": 17,
     "metadata": {},
     "output_type": "execute_result"
    }
   ],
   "source": [
    "#Reset index\n",
    "df.reset_index(drop=True)"
   ]
  },
  {
   "cell_type": "code",
   "execution_count": 18,
   "id": "c4e5d052",
   "metadata": {},
   "outputs": [
    {
     "name": "stdout",
     "output_type": "stream",
     "text": [
      "IQR value for column a_1 is: 31.3547700246785\n",
      "IQR value for column a_2 is: 27.8882062443202\n",
      "IQR value for column a_3 is: 27.951309906392503\n",
      "IQR value for column id is: 0.0\n",
      "Shape of data after outlier removal is:  (0, 4)\n"
     ]
    }
   ],
   "source": [
    "#Outliers\n",
    "\n",
    "# Removing the outliers\n",
    "def removeOutliers(df, col):\n",
    "    Q3 = np.quantile(df[col], 0.75)\n",
    "    Q1 = np.quantile(df[col], 0.25)\n",
    "    IQR = Q3 - Q1\n",
    "\n",
    "    print(\"IQR value for column %s is: %s\" % (col, IQR))\n",
    "    global outlier_free_list\n",
    "    global filtered_data\n",
    "\n",
    "    lower_range = Q1 - 1.5 * IQR\n",
    "    upper_range = Q3 + 1.5 * IQR\n",
    "    outlier_free_list = [x for x in df[col] if (\n",
    "        (x > lower_range) & (x < upper_range))]\n",
    "    filtered_data = df.loc[df[col].isin(outlier_free_list)]\n",
    "\n",
    "for i in df.columns:\n",
    "    if i == df.columns[0]:\n",
    "        removeOutliers(df, i)\n",
    "    else:\n",
    "        removeOutliers(filtered_data, i)\n",
    "\n",
    "\n",
    "# Assigning filtered data back to our original variable\n",
    "df = filtered_data\n",
    "print(\"Shape of data after outlier removal is: \", df.shape)\n"
   ]
  }
 ],
 "metadata": {
  "kernelspec": {
   "display_name": "Python 3 (ipykernel)",
   "language": "python",
   "name": "python3"
  },
  "language_info": {
   "codemirror_mode": {
    "name": "ipython",
    "version": 3
   },
   "file_extension": ".py",
   "mimetype": "text/x-python",
   "name": "python",
   "nbconvert_exporter": "python",
   "pygments_lexer": "ipython3",
   "version": "3.9.7"
  }
 },
 "nbformat": 4,
 "nbformat_minor": 5
}
